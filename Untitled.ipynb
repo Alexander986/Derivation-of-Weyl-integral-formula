{
 "cells": [
  {
   "cell_type": "markdown",
   "metadata": {},
   "source": [
    "Incomplete understanding of derivation of Weyl integral formula"
   ]
  },
  {
   "cell_type": "markdown",
   "metadata": {},
   "source": [
    "We integrate $$\\int\\limits_{G(m)}f(A) d A,$$ whatever this means, where $G(m)$ is either $U(m),$ $O(2m),$ $O(2m+1),$ $SPO(2m)=O_+(2m),$ $O_-(2m+2),$ $O_+(2m+1),$ $O_-(2m+1).$\n",
    "\n",
    "Let us start from $G(m) = U(m),$ the simplest case.\n",
    "First of all, we need to give sense for that integral. We can consider $Y:=U(m)$ as a $k:=m^2$-dimensional surface (manifold) in $X:=\\mathbb{R}^{n:=2m^2}$ space.\n",
    "\n",
    "That means that in order to integrate, we need to cover $Y$ with an atlas of maps $(\\varphi^{(\\alpha)}=(\\varphi_1^{\\alpha}, \\ldots, \\varphi_n^{(\\alpha)}): (-1,1)^k\\to X\\sup\\mathbb{R}^n,\\quad (y_1,\\ldots, y_k)\\mapsto(\\varphi_1(y_1,\\ldots, y_k),\\ldots \\varphi_n(y_1,\\ldots y_k)))_{\\alpha},$ where $\\alpha$ are indices of the maps.\n",
    "Given a map $\\varphi,$ in order to integrate over a surface, we need to define a Jacobian\n",
    "$$D(x;y)=\\begin{bmatrix}\\frac{\\partial \\varphi_1}{\\partial y_1},& \\ldots,& \\frac{\\partial \\varphi_1}{\\partial y_k}, \\\\\\ldots & \\ldots & \\ldots \\\\ \\frac{\\partial \\varphi_n}{\\partial y_1},& \\ldots,& \\frac{\\partial \\varphi_n}{\\partial y_k}\\end{bmatrix}.$$\n",
    "Now we take $$d \\sigma = \\sqrt{det (D^*(x;y)D(x,y))},$$ where $^*$ means taking transpose matrix and making complex conjugation.\n",
    "This $d\\sigma$ - is an `element' of surface.\n",
    "\n",
    "In what follows, for simplicity, we will suppose that we can integrate only within one map, though this is definitely not true.\n",
    "Let us integrate $$\\int\\limits_{A\\in Y}f(A) d A = \\int\\limits_{(y_1,\\ldots, y_k)}f(A) \\sqrt{det (D^*(x;y)D(x,y))} dy_1\\ldots dy_k.$$\n",
    "\n",
    "Now, instead of integrating over all elements of $U(n),$ we will integrate only along those elements $A\\in U(n)$ with pairwise different eigenvalues. We can do this because the others consistute a set of Lebesgue measure zero.\n",
    "\n",
    "All $A\\in U(m)$ with pairwise different elements might be represented as $$A=U\\Lambda U^*,$$\n",
    "where $$\\Lambda=(e^{i \\theta_1},\\ldots,e^{i \\theta_m}),\\quad 0<\\theta_1<\\ldots<\\theta_m<2\\pi,$$\n",
    "and $U\\in U(m)$ is a unitary matrix. That representation is not unique, since we can change $U\\to U D,$ where $D\\in U(n)$ is a diagonal matrix. However, we can make this representation unique by requiring that all the columns in $U$ has their first non-zero element positive.\n",
    "In that way, the matrix $U$ might be parametrized by $l=n^2-n$ real numbers, $U=U(p_1,\\ldots, p_l),$ and $\\Lambda$ is parametrized by $n$ real numbers $\\theta_1<\\ldots<\\theta_n.$\n",
    "OK, now we can think that we made an ordinary change of variables in our multiple integral, $$(y_1,\\ldots, y_n)\\mapsto (\\theta_1,\\ldots,\\theta_m, p_1,\\ldots, p_l,),\\quad n=m^2, l=n^2-n.$$\n",
    "\n",
    "Now, instead of that surface integral, we will integrate the differential form $\\delta A:= A^{-1}d A,$ wthout really understanding what is $d A,$ and without understanding how this transition went. So, we consider $$\\int\\limits_{U(n)} f(A) \\delta(A).$$\n",
    "\n"
   ]
  },
  {
   "cell_type": "markdown",
   "metadata": {},
   "source": [
    " Differentiating the relation $U^*U=I,$ we obtain $d U^*\\, U+U^*\\, d U=0,$ i.e. $$\\delta U:= U^*\\, dU=-(U^*\\, dU)^*=-(\\delta U)^*.$$\n",
    "Furthermore,\n",
    "$$\\delta A:=A^{-1}\\,dA = U\\,\\Lambda^{-1}\\, U^*\\,(dU\\,\\Lambda U^* + U\\,\\Lambda\\, d U^* + U\\, d\\Lambda\\, U^*)=\n",
    "U\\, \\Lambda^{-1}\\, \\delta U\\, \\Lambda U^* - dU\\,U^* + U\\, \\delta\\Lambda U^*,$$ and \n",
    "$$\\delta B:=U^{-1}\\, \\delta A\\, U = \\delta\\Lambda - \\delta U+\\Lambda^*\\, \\delta U\\, \\Lambda.$$\n",
    "\n",
    "Now we say that to integrate over $\\delta B$ is the same as to integrate over $\\delta A.$"
   ]
  },
  {
   "cell_type": "code",
   "execution_count": null,
   "metadata": {},
   "outputs": [],
   "source": []
  },
  {
   "cell_type": "code",
   "execution_count": null,
   "metadata": {},
   "outputs": [],
   "source": []
  }
 ],
 "metadata": {
  "kernelspec": {
   "display_name": "Python 3",
   "language": "python",
   "name": "python3"
  },
  "language_info": {
   "codemirror_mode": {
    "name": "ipython",
    "version": 3
   },
   "file_extension": ".py",
   "mimetype": "text/x-python",
   "name": "python",
   "nbconvert_exporter": "python",
   "pygments_lexer": "ipython3",
   "version": "3.7.0"
  }
 },
 "nbformat": 4,
 "nbformat_minor": 2
}
